{
 "cells": [
  {
   "cell_type": "markdown",
   "id": "e65e8d51",
   "metadata": {},
   "source": [
    "## Content list"
   ]
  },
  {
   "cell_type": "markdown",
   "id": "b86ca9f6",
   "metadata": {},
   "source": [
    "#### 1. Import libraries\n",
    "#### 2. Import data\n",
    "#### 3. Top 3 champion picks\n",
    "#### 4. Top 3 champion bans\n",
    "#### 5. Top 3 champions picks & bans win rate\n",
    "#### 6. Performance data for K'sante and region perfromance"
   ]
  },
  {
   "cell_type": "markdown",
   "id": "c3605bf2",
   "metadata": {},
   "source": [
    "## 1. Import libraries"
   ]
  },
  {
   "cell_type": "code",
   "execution_count": 1,
   "id": "5a1883d8",
   "metadata": {},
   "outputs": [],
   "source": [
    "# Import libraries\n",
    "import pandas as pd\n",
    "import numpy as np\n",
    "import datetime as dt\n",
    "import seaborn as sns\n",
    "import matplotlib\n",
    "import matplotlib.pyplot as plt\n",
    "import os\n",
    "import statsmodels.api as sm # Using .api imports the public access version of statsmodels, which is a library that handles statistical models.\n",
    "import warnings # This is a library that handles warnings."
   ]
  },
  {
   "cell_type": "code",
   "execution_count": 2,
   "id": "d87d4ed6",
   "metadata": {},
   "outputs": [],
   "source": [
    "# Disable deprecation warnings that could indicate, for instance, a suspended library or feature. These are more relevant to developers and very seldom to analysts.\n",
    "warnings.filterwarnings(\"ignore\") "
   ]
  },
  {
   "cell_type": "markdown",
   "id": "ccafaec0",
   "metadata": {},
   "source": [
    "## 2. Import data"
   ]
  },
  {
   "cell_type": "code",
   "execution_count": 3,
   "id": "0e87f343",
   "metadata": {},
   "outputs": [],
   "source": [
    "# Turn project folder path into a string\n",
    "path = r'C:\\Users\\Admin\\Desktop\\Data Analysis\\Advanced Analytics & Dashboard Design\\Competitive_LoL_Analysis'"
   ]
  },
  {
   "cell_type": "code",
   "execution_count": 4,
   "id": "35414502",
   "metadata": {},
   "outputs": [
    {
     "data": {
      "text/plain": [
       "'C:\\\\Users\\\\Admin\\\\Desktop\\\\Data Analysis\\\\Advanced Analytics & Dashboard Design\\\\Competitive_LoL_Analysis'"
      ]
     },
     "execution_count": 4,
     "metadata": {},
     "output_type": "execute_result"
    }
   ],
   "source": [
    "path"
   ]
  },
  {
   "cell_type": "code",
   "execution_count": 5,
   "id": "f29f435b",
   "metadata": {},
   "outputs": [],
   "source": [
    "# Import league competitive data\n",
    "df_lol = pd.read_csv(os.path.join(path, '02 Data', 'Prepared Data', 'competitve_data_cleaned_country.csv'), index_col = False)"
   ]
  },
  {
   "cell_type": "code",
   "execution_count": 6,
   "id": "dacb060c",
   "metadata": {
    "scrolled": true
   },
   "outputs": [
    {
     "data": {
      "text/html": [
       "<div>\n",
       "<style scoped>\n",
       "    .dataframe tbody tr th:only-of-type {\n",
       "        vertical-align: middle;\n",
       "    }\n",
       "\n",
       "    .dataframe tbody tr th {\n",
       "        vertical-align: top;\n",
       "    }\n",
       "\n",
       "    .dataframe thead th {\n",
       "        text-align: right;\n",
       "    }\n",
       "</style>\n",
       "<table border=\"1\" class=\"dataframe\">\n",
       "  <thead>\n",
       "    <tr style=\"text-align: right;\">\n",
       "      <th></th>\n",
       "      <th>gameid</th>\n",
       "      <th>league</th>\n",
       "      <th>year</th>\n",
       "      <th>date</th>\n",
       "      <th>game</th>\n",
       "      <th>patch</th>\n",
       "      <th>participantid</th>\n",
       "      <th>side</th>\n",
       "      <th>position</th>\n",
       "      <th>champion</th>\n",
       "      <th>...</th>\n",
       "      <th>teamkills</th>\n",
       "      <th>teamdeaths</th>\n",
       "      <th>damagetochampions</th>\n",
       "      <th>damageshare</th>\n",
       "      <th>totalgold</th>\n",
       "      <th>golddiffat15</th>\n",
       "      <th>xpdiffat15</th>\n",
       "      <th>kda</th>\n",
       "      <th>region</th>\n",
       "      <th>country</th>\n",
       "    </tr>\n",
       "  </thead>\n",
       "  <tbody>\n",
       "    <tr>\n",
       "      <th>0</th>\n",
       "      <td>LOLTMNT06_13630</td>\n",
       "      <td>LEC</td>\n",
       "      <td>2024</td>\n",
       "      <td>2024-01-13</td>\n",
       "      <td>1</td>\n",
       "      <td>14.01</td>\n",
       "      <td>1</td>\n",
       "      <td>Blue</td>\n",
       "      <td>top</td>\n",
       "      <td>Renekton</td>\n",
       "      <td>...</td>\n",
       "      <td>10</td>\n",
       "      <td>14</td>\n",
       "      <td>10063</td>\n",
       "      <td>0.286116</td>\n",
       "      <td>12202</td>\n",
       "      <td>1690.0</td>\n",
       "      <td>-346.0</td>\n",
       "      <td>2.0</td>\n",
       "      <td>Europe</td>\n",
       "      <td>United Kingdom</td>\n",
       "    </tr>\n",
       "    <tr>\n",
       "      <th>1</th>\n",
       "      <td>LOLTMNT06_13630</td>\n",
       "      <td>LEC</td>\n",
       "      <td>2024</td>\n",
       "      <td>2024-01-13</td>\n",
       "      <td>1</td>\n",
       "      <td>14.01</td>\n",
       "      <td>2</td>\n",
       "      <td>Blue</td>\n",
       "      <td>jng</td>\n",
       "      <td>Nocturne</td>\n",
       "      <td>...</td>\n",
       "      <td>10</td>\n",
       "      <td>14</td>\n",
       "      <td>4562</td>\n",
       "      <td>0.129709</td>\n",
       "      <td>9892</td>\n",
       "      <td>-378.0</td>\n",
       "      <td>74.0</td>\n",
       "      <td>2.0</td>\n",
       "      <td>Europe</td>\n",
       "      <td>United Kingdom</td>\n",
       "    </tr>\n",
       "    <tr>\n",
       "      <th>2</th>\n",
       "      <td>LOLTMNT06_13630</td>\n",
       "      <td>LEC</td>\n",
       "      <td>2024</td>\n",
       "      <td>2024-01-13</td>\n",
       "      <td>1</td>\n",
       "      <td>14.01</td>\n",
       "      <td>3</td>\n",
       "      <td>Blue</td>\n",
       "      <td>mid</td>\n",
       "      <td>Akali</td>\n",
       "      <td>...</td>\n",
       "      <td>10</td>\n",
       "      <td>14</td>\n",
       "      <td>11408</td>\n",
       "      <td>0.324358</td>\n",
       "      <td>10279</td>\n",
       "      <td>279.0</td>\n",
       "      <td>-330.0</td>\n",
       "      <td>1.0</td>\n",
       "      <td>Europe</td>\n",
       "      <td>United Kingdom</td>\n",
       "    </tr>\n",
       "    <tr>\n",
       "      <th>3</th>\n",
       "      <td>LOLTMNT06_13630</td>\n",
       "      <td>LEC</td>\n",
       "      <td>2024</td>\n",
       "      <td>2024-01-13</td>\n",
       "      <td>1</td>\n",
       "      <td>14.01</td>\n",
       "      <td>4</td>\n",
       "      <td>Blue</td>\n",
       "      <td>bot</td>\n",
       "      <td>Kalista</td>\n",
       "      <td>...</td>\n",
       "      <td>10</td>\n",
       "      <td>14</td>\n",
       "      <td>6014</td>\n",
       "      <td>0.170993</td>\n",
       "      <td>11703</td>\n",
       "      <td>213.0</td>\n",
       "      <td>1319.0</td>\n",
       "      <td>2.0</td>\n",
       "      <td>Europe</td>\n",
       "      <td>United Kingdom</td>\n",
       "    </tr>\n",
       "    <tr>\n",
       "      <th>4</th>\n",
       "      <td>LOLTMNT06_13630</td>\n",
       "      <td>LEC</td>\n",
       "      <td>2024</td>\n",
       "      <td>2024-01-13</td>\n",
       "      <td>1</td>\n",
       "      <td>14.01</td>\n",
       "      <td>5</td>\n",
       "      <td>Blue</td>\n",
       "      <td>sup</td>\n",
       "      <td>Pyke</td>\n",
       "      <td>...</td>\n",
       "      <td>10</td>\n",
       "      <td>14</td>\n",
       "      <td>3124</td>\n",
       "      <td>0.088823</td>\n",
       "      <td>7580</td>\n",
       "      <td>-75.0</td>\n",
       "      <td>-1313.0</td>\n",
       "      <td>1.0</td>\n",
       "      <td>Europe</td>\n",
       "      <td>United Kingdom</td>\n",
       "    </tr>\n",
       "  </tbody>\n",
       "</table>\n",
       "<p>5 rows × 35 columns</p>\n",
       "</div>"
      ],
      "text/plain": [
       "            gameid league  year        date  game  patch  participantid  side  \\\n",
       "0  LOLTMNT06_13630    LEC  2024  2024-01-13     1  14.01              1  Blue   \n",
       "1  LOLTMNT06_13630    LEC  2024  2024-01-13     1  14.01              2  Blue   \n",
       "2  LOLTMNT06_13630    LEC  2024  2024-01-13     1  14.01              3  Blue   \n",
       "3  LOLTMNT06_13630    LEC  2024  2024-01-13     1  14.01              4  Blue   \n",
       "4  LOLTMNT06_13630    LEC  2024  2024-01-13     1  14.01              5  Blue   \n",
       "\n",
       "  position  champion  ... teamkills teamdeaths damagetochampions damageshare  \\\n",
       "0      top  Renekton  ...        10         14             10063    0.286116   \n",
       "1      jng  Nocturne  ...        10         14              4562    0.129709   \n",
       "2      mid     Akali  ...        10         14             11408    0.324358   \n",
       "3      bot   Kalista  ...        10         14              6014    0.170993   \n",
       "4      sup      Pyke  ...        10         14              3124    0.088823   \n",
       "\n",
       "  totalgold golddiffat15 xpdiffat15  kda  region         country  \n",
       "0     12202       1690.0     -346.0  2.0  Europe  United Kingdom  \n",
       "1      9892       -378.0       74.0  2.0  Europe  United Kingdom  \n",
       "2     10279        279.0     -330.0  1.0  Europe  United Kingdom  \n",
       "3     11703        213.0     1319.0  2.0  Europe  United Kingdom  \n",
       "4      7580        -75.0    -1313.0  1.0  Europe  United Kingdom  \n",
       "\n",
       "[5 rows x 35 columns]"
      ]
     },
     "execution_count": 6,
     "metadata": {},
     "output_type": "execute_result"
    }
   ],
   "source": [
    "# Check output\n",
    "df_lol.head()"
   ]
  },
  {
   "cell_type": "code",
   "execution_count": 7,
   "id": "e79a1471",
   "metadata": {},
   "outputs": [
    {
     "data": {
      "text/plain": [
       "(10512, 35)"
      ]
     },
     "execution_count": 7,
     "metadata": {},
     "output_type": "execute_result"
    }
   ],
   "source": [
    "# Print number of rows and columns in df_lol\n",
    "df_lol.shape"
   ]
  },
  {
   "cell_type": "markdown",
   "id": "bcd9c135",
   "metadata": {},
   "source": [
    "## 3. Top 3 champions picks"
   ]
  },
  {
   "cell_type": "code",
   "execution_count": 8,
   "id": "b9753c0d",
   "metadata": {},
   "outputs": [],
   "source": [
    "# Remove data from position which have team, as we are only looking at individual player data\n",
    "df_lol_indi = df_lol.loc[df_lol['position'] != 'team']"
   ]
  },
  {
   "cell_type": "code",
   "execution_count": 9,
   "id": "4797079b",
   "metadata": {},
   "outputs": [
    {
     "data": {
      "text/plain": [
       "position\n",
       "top    1752\n",
       "jng    1752\n",
       "mid    1752\n",
       "bot    1752\n",
       "sup    1752\n",
       "Name: count, dtype: int64"
      ]
     },
     "execution_count": 9,
     "metadata": {},
     "output_type": "execute_result"
    }
   ],
   "source": [
    "# Check of all 'team' position data is removed.\n",
    "df_lol_indi['position'].value_counts()"
   ]
  },
  {
   "cell_type": "code",
   "execution_count": 10,
   "id": "2d5281d6",
   "metadata": {},
   "outputs": [
    {
     "data": {
      "text/plain": [
       "8760"
      ]
     },
     "execution_count": 10,
     "metadata": {},
     "output_type": "execute_result"
    }
   ],
   "source": [
    "df_lol_indi['champion'].count()"
   ]
  },
  {
   "cell_type": "code",
   "execution_count": 11,
   "id": "2fc251f8",
   "metadata": {},
   "outputs": [
    {
     "data": {
      "text/plain": [
       "champion\n",
       "K'Sante        406\n",
       "Azir           339\n",
       "Varus          338\n",
       "Nautilus       324\n",
       "Xin Zhao       273\n",
       "              ... \n",
       "Mordekaiser      1\n",
       "Vladimir         1\n",
       "Zilean           1\n",
       "Xerath           1\n",
       "Nasus            1\n",
       "Name: count, Length: 130, dtype: int64"
      ]
     },
     "execution_count": 11,
     "metadata": {},
     "output_type": "execute_result"
    }
   ],
   "source": [
    "# Identify the top count for champion pick\n",
    "df_lol_indi['champion'].value_counts()"
   ]
  },
  {
   "cell_type": "markdown",
   "id": "2d1dd094",
   "metadata": {},
   "source": [
    "### Top 3 picks for champions are:\n",
    "#### K'Sante with 406 pick count.\n",
    "#### Azir with 339 pick count.\n",
    "#### Varis with 338 pick count."
   ]
  },
  {
   "cell_type": "code",
   "execution_count": 12,
   "id": "325417b6",
   "metadata": {},
   "outputs": [],
   "source": [
    "# Create subset for top 3 champion picks and counts\n",
    "df_pick = df_lol_indi['champion'].value_counts().head(3).rename_axis('champion').reset_index(name='counts')"
   ]
  },
  {
   "cell_type": "code",
   "execution_count": 13,
   "id": "e8e85847",
   "metadata": {
    "scrolled": true
   },
   "outputs": [
    {
     "data": {
      "text/html": [
       "<div>\n",
       "<style scoped>\n",
       "    .dataframe tbody tr th:only-of-type {\n",
       "        vertical-align: middle;\n",
       "    }\n",
       "\n",
       "    .dataframe tbody tr th {\n",
       "        vertical-align: top;\n",
       "    }\n",
       "\n",
       "    .dataframe thead th {\n",
       "        text-align: right;\n",
       "    }\n",
       "</style>\n",
       "<table border=\"1\" class=\"dataframe\">\n",
       "  <thead>\n",
       "    <tr style=\"text-align: right;\">\n",
       "      <th></th>\n",
       "      <th>champion</th>\n",
       "      <th>counts</th>\n",
       "    </tr>\n",
       "  </thead>\n",
       "  <tbody>\n",
       "    <tr>\n",
       "      <th>0</th>\n",
       "      <td>K'Sante</td>\n",
       "      <td>406</td>\n",
       "    </tr>\n",
       "    <tr>\n",
       "      <th>1</th>\n",
       "      <td>Azir</td>\n",
       "      <td>339</td>\n",
       "    </tr>\n",
       "    <tr>\n",
       "      <th>2</th>\n",
       "      <td>Varus</td>\n",
       "      <td>338</td>\n",
       "    </tr>\n",
       "  </tbody>\n",
       "</table>\n",
       "</div>"
      ],
      "text/plain": [
       "  champion  counts\n",
       "0  K'Sante     406\n",
       "1     Azir     339\n",
       "2    Varus     338"
      ]
     },
     "execution_count": 13,
     "metadata": {},
     "output_type": "execute_result"
    }
   ],
   "source": [
    "# Check output\n",
    "df_pick"
   ]
  },
  {
   "cell_type": "code",
   "execution_count": 14,
   "id": "dea79043",
   "metadata": {},
   "outputs": [],
   "source": [
    "# Exporting df_pick as 'top_champion_picks.csv'\n",
    "df_pick.to_csv(os.path.join(path, '02 Data','Prepared Data', 'top_champion_pick.csv'), index=False)"
   ]
  },
  {
   "cell_type": "markdown",
   "id": "b4d7856c",
   "metadata": {},
   "source": [
    "## 4. Top 3 champions bans"
   ]
  },
  {
   "cell_type": "code",
   "execution_count": 15,
   "id": "db8700c2",
   "metadata": {},
   "outputs": [],
   "source": [
    "# Extract data from position which have team.\n",
    "df_lol_team = df_lol.loc[df_lol['position'] == 'team']"
   ]
  },
  {
   "cell_type": "code",
   "execution_count": 16,
   "id": "a880e332",
   "metadata": {},
   "outputs": [
    {
     "data": {
      "text/plain": [
       "position\n",
       "team    1752\n",
       "Name: count, dtype: int64"
      ]
     },
     "execution_count": 16,
     "metadata": {},
     "output_type": "execute_result"
    }
   ],
   "source": [
    "# Check if only 'team' position data is present.\n",
    "df_lol_team['position'].value_counts()"
   ]
  },
  {
   "cell_type": "code",
   "execution_count": 17,
   "id": "f37fbe0e",
   "metadata": {},
   "outputs": [],
   "source": [
    "# Create subset based on ban1, ban2, ban3, ban4, ban5 columns.\n",
    "ban1 = df_lol_team['ban1']\n",
    "ban2 = df_lol_team['ban2']\n",
    "ban3 = df_lol_team['ban3']\n",
    "ban4 = df_lol_team['ban4']\n",
    "ban5 = df_lol_team['ban5']"
   ]
  },
  {
   "cell_type": "code",
   "execution_count": 18,
   "id": "81012e09",
   "metadata": {},
   "outputs": [],
   "source": [
    "# Append all ban columns togehter\n",
    "frames = [ban1, ban2, ban3, ban4, ban5]\n",
    "ban_total = pd.concat(frames)"
   ]
  },
  {
   "cell_type": "code",
   "execution_count": 19,
   "id": "ad9c92eb",
   "metadata": {},
   "outputs": [
    {
     "data": {
      "text/plain": [
       "8753"
      ]
     },
     "execution_count": 19,
     "metadata": {},
     "output_type": "execute_result"
    }
   ],
   "source": [
    "ban_total.count()"
   ]
  },
  {
   "cell_type": "code",
   "execution_count": 20,
   "id": "f593e1e3",
   "metadata": {},
   "outputs": [
    {
     "data": {
      "text/plain": [
       "Kalista      541\n",
       "Ashe         451\n",
       "Vi           400\n",
       "Senna        399\n",
       "Varus        369\n",
       "            ... \n",
       "Yuumi          1\n",
       "Skarner        1\n",
       "Samira         1\n",
       "Gangplank      1\n",
       "Kha'Zix        1\n",
       "Name: count, Length: 114, dtype: int64"
      ]
     },
     "execution_count": 20,
     "metadata": {},
     "output_type": "execute_result"
    }
   ],
   "source": [
    "# Identify top count for champion ban\n",
    "ban_total.value_counts()"
   ]
  },
  {
   "cell_type": "markdown",
   "id": "9cb3c2c3",
   "metadata": {},
   "source": [
    "### Top 3 bans for champions are:\n",
    "#### Kalista with 541 ban counts.\n",
    "#### Ashe with 451 ban counts.\n",
    "#### Vi with 400 ban counts."
   ]
  },
  {
   "cell_type": "code",
   "execution_count": 21,
   "id": "3e0a816e",
   "metadata": {},
   "outputs": [],
   "source": [
    "# Create subset for top 3 champion ban and counts\n",
    "df_ban = ban_total.value_counts().head(3).rename_axis('champion').reset_index(name='counts')"
   ]
  },
  {
   "cell_type": "code",
   "execution_count": 22,
   "id": "6f60a0d0",
   "metadata": {},
   "outputs": [
    {
     "data": {
      "text/html": [
       "<div>\n",
       "<style scoped>\n",
       "    .dataframe tbody tr th:only-of-type {\n",
       "        vertical-align: middle;\n",
       "    }\n",
       "\n",
       "    .dataframe tbody tr th {\n",
       "        vertical-align: top;\n",
       "    }\n",
       "\n",
       "    .dataframe thead th {\n",
       "        text-align: right;\n",
       "    }\n",
       "</style>\n",
       "<table border=\"1\" class=\"dataframe\">\n",
       "  <thead>\n",
       "    <tr style=\"text-align: right;\">\n",
       "      <th></th>\n",
       "      <th>champion</th>\n",
       "      <th>counts</th>\n",
       "    </tr>\n",
       "  </thead>\n",
       "  <tbody>\n",
       "    <tr>\n",
       "      <th>0</th>\n",
       "      <td>Kalista</td>\n",
       "      <td>541</td>\n",
       "    </tr>\n",
       "    <tr>\n",
       "      <th>1</th>\n",
       "      <td>Ashe</td>\n",
       "      <td>451</td>\n",
       "    </tr>\n",
       "    <tr>\n",
       "      <th>2</th>\n",
       "      <td>Vi</td>\n",
       "      <td>400</td>\n",
       "    </tr>\n",
       "  </tbody>\n",
       "</table>\n",
       "</div>"
      ],
      "text/plain": [
       "  champion  counts\n",
       "0  Kalista     541\n",
       "1     Ashe     451\n",
       "2       Vi     400"
      ]
     },
     "execution_count": 22,
     "metadata": {},
     "output_type": "execute_result"
    }
   ],
   "source": [
    "# Check output\n",
    "df_ban"
   ]
  },
  {
   "cell_type": "code",
   "execution_count": 23,
   "id": "7325c158",
   "metadata": {},
   "outputs": [],
   "source": [
    "# Exporting df_ban as 'top_champion_bans.csv'\n",
    "df_ban.to_csv(os.path.join(path, '02 Data','Prepared Data', 'top_champion_ban.csv'), index=False)"
   ]
  },
  {
   "cell_type": "markdown",
   "id": "c967f677",
   "metadata": {},
   "source": [
    "## 5. Top 3 champions picks & bans win rates"
   ]
  },
  {
   "cell_type": "code",
   "execution_count": 24,
   "id": "23f25ca5",
   "metadata": {},
   "outputs": [],
   "source": [
    "# Create a subset for each of the top 3 champions pick and ban\n",
    "df_ksante = df_lol_indi.loc[df_lol_indi['champion'] == \"K'Sante\"]\n",
    "df_azir = df_lol_indi.loc[df_lol_indi['champion'] == \"Azir\"]\n",
    "df_varus = df_lol_indi.loc[df_lol_indi['champion'] == \"Varus\"]\n",
    "df_kalista = df_lol_indi.loc[df_lol_indi['champion'] == \"Kalista\"]\n",
    "df_ashe = df_lol_indi.loc[df_lol_indi['champion'] == \"Ashe\"]\n",
    "df_vi = df_lol_indi.loc[df_lol_indi['champion'] == \"Vi\"]"
   ]
  },
  {
   "cell_type": "code",
   "execution_count": 25,
   "id": "c89c71e1",
   "metadata": {},
   "outputs": [],
   "source": [
    "# Calculate winrate of each champions\n",
    "df_ksante_winrate = df_ksante.loc[df_ksante['result'] == 1].result.count() /  df_ksante.result.count() * 100\n",
    "df_azir_winrate = df_azir.loc[df_azir['result'] == 1].result.count() /  df_azir.result.count() * 100\n",
    "df_varus_winrate = df_varus.loc[df_varus['result'] == 1].result.count() /  df_varus.result.count() * 100\n",
    "df_kalista_winrate = df_kalista.loc[df_kalista['result'] == 1].result.count() /  df_kalista.result.count() * 100\n",
    "df_ashe_winrate = df_ashe.loc[df_ashe['result'] == 1].result.count() /  df_ashe.result.count() * 100\n",
    "df_vi_winrate = df_vi.loc[df_vi['result'] == 1].result.count() /  df_vi.result.count() * 100"
   ]
  },
  {
   "cell_type": "code",
   "execution_count": 26,
   "id": "c4641bb5",
   "metadata": {},
   "outputs": [
    {
     "name": "stdout",
     "output_type": "stream",
     "text": [
      "K'sante win rate =  55.66502463054187\n",
      "Azir win rate =  49.26253687315634\n",
      "Varus win rate =  54.437869822485204\n",
      "Kalista win rate =  49.5\n",
      "Ashe win rate =  47.12643678160919\n",
      "Vi win rate =  48.97959183673469\n"
     ]
    }
   ],
   "source": [
    "print(\"K'sante win rate = \",df_ksante_winrate)\n",
    "print(\"Azir win rate = \",df_azir_winrate)\n",
    "print(\"Varus win rate = \",df_varus_winrate)\n",
    "print(\"Kalista win rate = \",df_kalista_winrate)\n",
    "print(\"Ashe win rate = \",df_ashe_winrate)\n",
    "print(\"Vi win rate = \",df_vi_winrate)"
   ]
  },
  {
   "cell_type": "markdown",
   "id": "56e87311",
   "metadata": {},
   "source": [
    "#### K'sante have the highest win rate of 55.7% among the top 3 champions picks and bans."
   ]
  },
  {
   "cell_type": "code",
   "execution_count": 27,
   "id": "1505013b",
   "metadata": {},
   "outputs": [],
   "source": [
    "# Create list with champion and winrate\n",
    "winrate_data = [[\"K'Sante\", df_ksante_winrate], [\"Azir\", df_azir_winrate], [\"Varus\", df_varus_winrate], [\"Kalista\", df_kalista_winrate], [\"Ashe\", df_ashe_winrate], [\"Vi\", df_vi_winrate]] "
   ]
  },
  {
   "cell_type": "code",
   "execution_count": 28,
   "id": "82272ad5",
   "metadata": {},
   "outputs": [],
   "source": [
    "# Create dataframe with champion and winrate details\n",
    "df_winrate = pd.DataFrame(winrate_data, columns=['champion', 'win_rate'])"
   ]
  },
  {
   "cell_type": "code",
   "execution_count": 29,
   "id": "5e1305cb",
   "metadata": {},
   "outputs": [
    {
     "data": {
      "text/html": [
       "<div>\n",
       "<style scoped>\n",
       "    .dataframe tbody tr th:only-of-type {\n",
       "        vertical-align: middle;\n",
       "    }\n",
       "\n",
       "    .dataframe tbody tr th {\n",
       "        vertical-align: top;\n",
       "    }\n",
       "\n",
       "    .dataframe thead th {\n",
       "        text-align: right;\n",
       "    }\n",
       "</style>\n",
       "<table border=\"1\" class=\"dataframe\">\n",
       "  <thead>\n",
       "    <tr style=\"text-align: right;\">\n",
       "      <th></th>\n",
       "      <th>champion</th>\n",
       "      <th>win_rate</th>\n",
       "    </tr>\n",
       "  </thead>\n",
       "  <tbody>\n",
       "    <tr>\n",
       "      <th>0</th>\n",
       "      <td>K'Sante</td>\n",
       "      <td>55.665025</td>\n",
       "    </tr>\n",
       "    <tr>\n",
       "      <th>1</th>\n",
       "      <td>Azir</td>\n",
       "      <td>49.262537</td>\n",
       "    </tr>\n",
       "    <tr>\n",
       "      <th>2</th>\n",
       "      <td>Varus</td>\n",
       "      <td>54.437870</td>\n",
       "    </tr>\n",
       "    <tr>\n",
       "      <th>3</th>\n",
       "      <td>Kalista</td>\n",
       "      <td>49.500000</td>\n",
       "    </tr>\n",
       "    <tr>\n",
       "      <th>4</th>\n",
       "      <td>Ashe</td>\n",
       "      <td>47.126437</td>\n",
       "    </tr>\n",
       "    <tr>\n",
       "      <th>5</th>\n",
       "      <td>Vi</td>\n",
       "      <td>48.979592</td>\n",
       "    </tr>\n",
       "  </tbody>\n",
       "</table>\n",
       "</div>"
      ],
      "text/plain": [
       "  champion   win_rate\n",
       "0  K'Sante  55.665025\n",
       "1     Azir  49.262537\n",
       "2    Varus  54.437870\n",
       "3  Kalista  49.500000\n",
       "4     Ashe  47.126437\n",
       "5       Vi  48.979592"
      ]
     },
     "execution_count": 29,
     "metadata": {},
     "output_type": "execute_result"
    }
   ],
   "source": [
    "df_winrate"
   ]
  },
  {
   "cell_type": "code",
   "execution_count": 30,
   "id": "9b6c2278",
   "metadata": {},
   "outputs": [],
   "source": [
    "# Exporting df_winrate as 'champion_winrate.csv'\n",
    "df_winrate.to_csv(os.path.join(path, '02 Data','Prepared Data', 'champion_winrate.csv'), index=False)"
   ]
  },
  {
   "cell_type": "markdown",
   "id": "12806404",
   "metadata": {},
   "source": [
    "# 6. Performance data for K'sante and region perfromance"
   ]
  },
  {
   "cell_type": "markdown",
   "id": "6e441e51",
   "metadata": {},
   "source": [
    "#### As K'sante is a top lane position champion, i want to comapre how it's overall performance stack up against the top lane perfromance of 4 various region (LCK - Korea, LPL - China, LEC - Europe, LCS - NA)"
   ]
  },
  {
   "cell_type": "code",
   "execution_count": 35,
   "id": "c1ff5d24",
   "metadata": {},
   "outputs": [],
   "source": [
    "# Create subset of for all 4 seperate region\n",
    "df_lol_kr = df_lol_indi.loc[df_lol_indi['region'] == 'Korea']\n",
    "df_lol_ch = df_lol_indi.loc[df_lol_indi['region'] == 'China']\n",
    "df_lol_eu = df_lol_indi.loc[df_lol_indi['region'] == 'Europe']\n",
    "df_lol_na = df_lol_indi.loc[df_lol_indi['region'] == 'North America']"
   ]
  },
  {
   "cell_type": "code",
   "execution_count": 38,
   "id": "0b2ff0dd",
   "metadata": {},
   "outputs": [],
   "source": [
    "# Filter out top lane position for all region\n",
    "df_lol_kr_top = df_lol_kr.loc[df_lol_kr['position'] == 'top']\n",
    "df_lol_ch_top = df_lol_ch.loc[df_lol_ch['position'] == 'top']\n",
    "df_lol_eu_top = df_lol_eu.loc[df_lol_eu['position'] == 'top']\n",
    "df_lol_na_top = df_lol_na.loc[df_lol_na['position'] == 'top']"
   ]
  },
  {
   "cell_type": "code",
   "execution_count": 49,
   "id": "76042e78",
   "metadata": {},
   "outputs": [],
   "source": [
    "# Store the min, max and average for 'kda', 'totalgold' & 'damageshare' stats for KR region\n",
    "kr_kda_min = df_lol_na_top['kda'].min()\n",
    "kr_kda_max = df_lol_na_top['kda'].max()\n",
    "kr_kda_avg = df_lol_na_top['kda'].mean()\n",
    "kr_gold_min = df_lol_na_top['totalgold'].min()\n",
    "kr_gold_max = df_lol_na_top['totalgold'].max()\n",
    "kr_gold_avg = df_lol_na_top['totalgold'].mean()\n",
    "kr_dmg_min = df_lol_na_top['damageshare'].min()\n",
    "kr_dmg_max = df_lol_na_top['damageshare'].max()\n",
    "kr_dmg_avg = df_lol_na_top['damageshare'].mean()"
   ]
  },
  {
   "cell_type": "code",
   "execution_count": 52,
   "id": "ec02127f",
   "metadata": {},
   "outputs": [],
   "source": [
    "# Store the min, max and average for 'kda', 'totalgold' & 'damageshare' stats for China region\n",
    "ch_kda_min = df_lol_ch_top['kda'].min()\n",
    "ch_kda_max = df_lol_ch_top['kda'].max()\n",
    "ch_kda_avg = df_lol_ch_top['kda'].mean()\n",
    "ch_gold_min = df_lol_ch_top['totalgold'].min()\n",
    "ch_gold_max = df_lol_ch_top['totalgold'].max()\n",
    "ch_gold_avg = df_lol_ch_top['totalgold'].mean()\n",
    "ch_dmg_min = df_lol_ch_top['damageshare'].min()\n",
    "ch_dmg_max = df_lol_ch_top['damageshare'].max()\n",
    "ch_dmg_avg = df_lol_ch_top['damageshare'].mean()"
   ]
  },
  {
   "cell_type": "code",
   "execution_count": 54,
   "id": "f597576b",
   "metadata": {},
   "outputs": [],
   "source": [
    "# Store the min, max and average for 'kda', 'totalgold' & 'damageshare' stats for Europe region\n",
    "eu_kda_min = df_lol_eu_top['kda'].min()\n",
    "eu_kda_max = df_lol_eu_top['kda'].max()\n",
    "eu_kda_avg = df_lol_eu_top['kda'].mean()\n",
    "eu_gold_min = df_lol_eu_top['totalgold'].min()\n",
    "eu_gold_max = df_lol_eu_top['totalgold'].max()\n",
    "eu_gold_avg = df_lol_eu_top['totalgold'].mean()\n",
    "eu_dmg_min = df_lol_eu_top['damageshare'].min()\n",
    "eu_dmg_max = df_lol_eu_top['damageshare'].max()\n",
    "eu_dmg_avg = df_lol_eu_top['damageshare'].mean()"
   ]
  },
  {
   "cell_type": "code",
   "execution_count": 56,
   "id": "8edf1502",
   "metadata": {},
   "outputs": [],
   "source": [
    "# Store the min, max and average for 'kda', 'totalgold' & 'damageshare' stats for NA region\n",
    "na_kda_min = df_lol_na_top['kda'].min()\n",
    "na_kda_max = df_lol_na_top['kda'].max()\n",
    "na_kda_avg = df_lol_na_top['kda'].mean()\n",
    "na_gold_min = df_lol_na_top['totalgold'].min()\n",
    "na_gold_max = df_lol_na_top['totalgold'].max()\n",
    "na_gold_avg = df_lol_na_top['totalgold'].mean()\n",
    "na_dmg_min = df_lol_na_top['damageshare'].min()\n",
    "na_dmg_max = df_lol_na_top['damageshare'].max()\n",
    "na_dmg_avg = df_lol_na_top['damageshare'].mean()"
   ]
  },
  {
   "cell_type": "code",
   "execution_count": 58,
   "id": "80e2638f",
   "metadata": {},
   "outputs": [],
   "source": [
    "# Create list with country and top lane stats\n",
    "top_stats_data = [[\"South Korea\", kr_kda_min, kr_kda_max, kr_kda_avg, kr_gold_min, kr_gold_max, kr_gold_avg, kr_dmg_min, kr_dmg_max, kr_dmg_avg], \n",
    "                [\"China\", ch_kda_min, ch_kda_max, ch_kda_avg, ch_gold_min, ch_gold_max, ch_gold_avg, ch_dmg_min, ch_dmg_max, ch_dmg_avg], \n",
    "                [\"United Kingdom\", eu_kda_min, eu_kda_max, eu_kda_avg, eu_gold_min, eu_gold_max, eu_gold_avg, eu_dmg_min, eu_dmg_max, eu_dmg_avg], \n",
    "                [\"United States of America\", na_kda_min, na_kda_max, na_kda_avg, na_gold_min, na_gold_max, na_gold_avg, na_dmg_min, na_dmg_max, na_dmg_avg]]"
   ]
  },
  {
   "cell_type": "code",
   "execution_count": 60,
   "id": "696896ca",
   "metadata": {},
   "outputs": [],
   "source": [
    "# Create dataframe with country and top lane stats details\n",
    "df_country_stats = pd.DataFrame(top_stats_data, columns=['country', 'kda_min', 'kda_max', 'kda_avg', 'gold_earned_min', 'gold_earned_max', 'gold_earned_avg', 'damageshare_min', 'damageshare_max', 'damageshare_avg'])"
   ]
  },
  {
   "cell_type": "code",
   "execution_count": 61,
   "id": "96f4ffbe",
   "metadata": {},
   "outputs": [
    {
     "data": {
      "text/html": [
       "<div>\n",
       "<style scoped>\n",
       "    .dataframe tbody tr th:only-of-type {\n",
       "        vertical-align: middle;\n",
       "    }\n",
       "\n",
       "    .dataframe tbody tr th {\n",
       "        vertical-align: top;\n",
       "    }\n",
       "\n",
       "    .dataframe thead th {\n",
       "        text-align: right;\n",
       "    }\n",
       "</style>\n",
       "<table border=\"1\" class=\"dataframe\">\n",
       "  <thead>\n",
       "    <tr style=\"text-align: right;\">\n",
       "      <th></th>\n",
       "      <th>country</th>\n",
       "      <th>kda_min</th>\n",
       "      <th>kda_max</th>\n",
       "      <th>kda_avg</th>\n",
       "      <th>gold_earned_min</th>\n",
       "      <th>gold_earned_max</th>\n",
       "      <th>gold_earned_avg</th>\n",
       "      <th>damageshare_min</th>\n",
       "      <th>damageshare_max</th>\n",
       "      <th>damageshare_avg</th>\n",
       "    </tr>\n",
       "  </thead>\n",
       "  <tbody>\n",
       "    <tr>\n",
       "      <th>0</th>\n",
       "      <td>South Korea</td>\n",
       "      <td>0.0</td>\n",
       "      <td>16.0</td>\n",
       "      <td>3.826467</td>\n",
       "      <td>7296</td>\n",
       "      <td>20397</td>\n",
       "      <td>12690.639535</td>\n",
       "      <td>0.085048</td>\n",
       "      <td>0.414749</td>\n",
       "      <td>0.218811</td>\n",
       "    </tr>\n",
       "    <tr>\n",
       "      <th>1</th>\n",
       "      <td>China</td>\n",
       "      <td>0.0</td>\n",
       "      <td>22.0</td>\n",
       "      <td>4.238091</td>\n",
       "      <td>6646</td>\n",
       "      <td>22387</td>\n",
       "      <td>12752.092000</td>\n",
       "      <td>0.070484</td>\n",
       "      <td>0.525338</td>\n",
       "      <td>0.221353</td>\n",
       "    </tr>\n",
       "    <tr>\n",
       "      <th>2</th>\n",
       "      <td>United Kingdom</td>\n",
       "      <td>0.0</td>\n",
       "      <td>22.0</td>\n",
       "      <td>4.663240</td>\n",
       "      <td>6526</td>\n",
       "      <td>20975</td>\n",
       "      <td>12324.254335</td>\n",
       "      <td>0.072780</td>\n",
       "      <td>0.463391</td>\n",
       "      <td>0.227050</td>\n",
       "    </tr>\n",
       "    <tr>\n",
       "      <th>3</th>\n",
       "      <td>United States of America</td>\n",
       "      <td>0.0</td>\n",
       "      <td>16.0</td>\n",
       "      <td>3.826467</td>\n",
       "      <td>7296</td>\n",
       "      <td>20397</td>\n",
       "      <td>12690.639535</td>\n",
       "      <td>0.085048</td>\n",
       "      <td>0.414749</td>\n",
       "      <td>0.218811</td>\n",
       "    </tr>\n",
       "  </tbody>\n",
       "</table>\n",
       "</div>"
      ],
      "text/plain": [
       "                    country  kda_min  kda_max   kda_avg  gold_earned_min  \\\n",
       "0               South Korea      0.0     16.0  3.826467             7296   \n",
       "1                     China      0.0     22.0  4.238091             6646   \n",
       "2            United Kingdom      0.0     22.0  4.663240             6526   \n",
       "3  United States of America      0.0     16.0  3.826467             7296   \n",
       "\n",
       "   gold_earned_max  gold_earned_avg  damageshare_min  damageshare_max  \\\n",
       "0            20397     12690.639535         0.085048         0.414749   \n",
       "1            22387     12752.092000         0.070484         0.525338   \n",
       "2            20975     12324.254335         0.072780         0.463391   \n",
       "3            20397     12690.639535         0.085048         0.414749   \n",
       "\n",
       "   damageshare_avg  \n",
       "0         0.218811  \n",
       "1         0.221353  \n",
       "2         0.227050  \n",
       "3         0.218811  "
      ]
     },
     "execution_count": 61,
     "metadata": {},
     "output_type": "execute_result"
    }
   ],
   "source": [
    "df_country_stats.head()"
   ]
  },
  {
   "cell_type": "code",
   "execution_count": 62,
   "id": "f6204772",
   "metadata": {},
   "outputs": [],
   "source": [
    "# Exporting df_country_stats as 'country_toplane_stats.csv'\n",
    "df_country_stats.to_csv(os.path.join(path, '02 Data','Prepared Data', 'country_toplane_stats.csv'), index=False)"
   ]
  },
  {
   "cell_type": "code",
   "execution_count": 63,
   "id": "5bb05075",
   "metadata": {},
   "outputs": [],
   "source": [
    "# Store the min, max and average for 'kda', 'totalgold' & 'damageshare' stats for K'sante champion\n",
    "ksante_kda_min = df_ksante['kda'].min()\n",
    "ksante_kda_max = df_ksante['kda'].max()\n",
    "ksante_kda_avg = df_ksante['kda'].mean()\n",
    "ksante_gold_min = df_ksante['totalgold'].min()\n",
    "ksante_gold_max = df_ksante['totalgold'].max()\n",
    "ksante_gold_avg = df_ksante['totalgold'].mean()\n",
    "ksante_dmg_min = df_ksante['damageshare'].min()\n",
    "ksante_dmg_max = df_ksante['damageshare'].max()\n",
    "ksante_dmg_avg = df_ksante['damageshare'].mean()"
   ]
  },
  {
   "cell_type": "code",
   "execution_count": 65,
   "id": "c2b73076",
   "metadata": {},
   "outputs": [],
   "source": [
    "# Create list with ksante stats\n",
    "ksante_data = [[\"K'sante\", ksante_kda_min, ksante_kda_max, ksante_kda_avg, ksante_gold_min, ksante_gold_max, ksante_gold_avg, ksante_dmg_min, ksante_dmg_max, ksante_dmg_avg]]"
   ]
  },
  {
   "cell_type": "code",
   "execution_count": 66,
   "id": "72be308c",
   "metadata": {},
   "outputs": [],
   "source": [
    "# Create dataframe with ksante stats details\n",
    "df_ksante_stats = pd.DataFrame(ksante_data, columns=['champion', 'kda_min', 'kda_max', 'kda_avg', 'gold_earned_min', 'gold_earned_max', 'gold_earned_avg', 'damageshare_min', 'damageshare_max', 'damageshare_avg'])"
   ]
  },
  {
   "cell_type": "code",
   "execution_count": 68,
   "id": "cbc8eddd",
   "metadata": {},
   "outputs": [],
   "source": [
    "# Exporting df_ksante_stats as 'ksante_stats.csv'\n",
    "df_ksante_stats.to_csv(os.path.join(path, '02 Data','Prepared Data', 'ksante_stats.csv'), index=False)"
   ]
  },
  {
   "cell_type": "code",
   "execution_count": null,
   "id": "a07d64d8",
   "metadata": {},
   "outputs": [],
   "source": []
  }
 ],
 "metadata": {
  "kernelspec": {
   "display_name": "Python 3 (ipykernel)",
   "language": "python",
   "name": "python3"
  },
  "language_info": {
   "codemirror_mode": {
    "name": "ipython",
    "version": 3
   },
   "file_extension": ".py",
   "mimetype": "text/x-python",
   "name": "python",
   "nbconvert_exporter": "python",
   "pygments_lexer": "ipython3",
   "version": "3.11.7"
  }
 },
 "nbformat": 4,
 "nbformat_minor": 5
}
